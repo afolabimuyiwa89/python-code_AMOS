{
 "cells": [
  {
   "cell_type": "code",
   "execution_count": 1,
   "id": "a98b45bc",
   "metadata": {},
   "outputs": [],
   "source": [
    "import pandas as pd\n",
    "from sklearn.cluster import KMeans\n",
    "from sklearn.preprocessing import StandardScaler\n",
    "import matplotlib.pyplot as plt\n",
    "from sklearn.metrics import silhouette_score\n",
    "import warnings\n",
    "warnings.filterwarnings(\"ignore\")"
   ]
  },
  {
   "cell_type": "code",
   "execution_count": 2,
   "id": "2519d3e2",
   "metadata": {},
   "outputs": [],
   "source": [
    "data = pd.read_csv (\"C:/Users/USER/OneDrive/Desktop/AMOS/API_EN.ATM.CO2E.KT_DS2_en_csv_v2_4770619.csv\", skiprows=4)"
   ]
  },
  {
   "cell_type": "code",
   "execution_count": 3,
   "id": "8884e6dc",
   "metadata": {},
   "outputs": [],
   "source": [
    "# Extract the required data for the clustering\n",
    "df_cluster = data.loc[data.index, ['2017', '2018', '2019']]\n",
    "df_cluster = df_cluster.dropna().values"
   ]
  },
  {
   "cell_type": "code",
   "execution_count": null,
   "id": "f5a3f295",
   "metadata": {
    "scrolled": true
   },
   "outputs": [],
   "source": [
    "\n"
   ]
  },
  {
   "cell_type": "code",
   "execution_count": 4,
   "id": "519fa9ef",
   "metadata": {},
   "outputs": [
    {
     "data": {
      "image/png": "[encoded data removed]",
      "text/plain": [
       "<Figure size 640x480 with 1 Axes>"
      ]
     },
     "metadata": {},
     "output_type": "display_data"
    }
   ],
   "source": [
    "# Scale the data for better clustering results\n",
    "scaler = StandardScaler()\n",
    "df_cluster = scaler.fit_transform(df_cluster)\n",
    "\n",
    "\n",
    "# Elbow Method\n",
    "sse = []\n",
    "for k in range(1, 11):\n",
    "    kmeans = KMeans(n_clusters=k, random_state=0)\n",
    "    kmeans.fit(df_cluster)\n",
    "    sse.append(kmeans.inertia_)\n",
    "\n",
    "plt.plot(range(1, 11), sse)\n",
    "plt.title(\"Elbow Method\")\n",
    "plt.xlabel(\"Number of clusters\")\n",
    "plt.ylabel(\"SSE\")\n",
    "plt.show()"
   ]
  },
  {
   "cell_type": "code",
   "execution_count": 5,
   "id": "1f169c1f",
   "metadata": {},
   "outputs": [
    {
     "data": {
      "text/html": [
       "<style>#sk-container-id-1 {color: black;background-color: white;}#sk-container-id-1 pre{padding: 0;}#sk-container-id-1 div.sk-toggleable {background-color: white;}#sk-container-id-1 label.sk-toggleable__label {cursor: pointer;display: block;width: 100%;margin-bottom: 0;padding: 0.3em;box-sizing: border-box;text-align: center;}#sk-container-id-1 label.sk-toggleable__label-arrow:before {content: \"▸\";float: left;margin-right: 0.25em;color: #696969;}#sk-container-id-1 label.sk-toggleable__label-arrow:hover:before {color: black;}#sk-container-id-1 div.sk-estimator:hover label.sk-toggleable__label-arrow:before {color: black;}#sk-container-id-1 div.sk-toggleable__content {max-height: 0;max-width: 0;overflow: hidden;text-align: left;background-color: #f0f8ff;}#sk-container-id-1 div.sk-toggleable__content pre {margin: 0.2em;color: black;border-radius: 0.25em;background-color: #f0f8ff;}#sk-container-id-1 input.sk-toggleable__control:checked~div.sk-toggleable__content {max-height: 200px;max-width: 100%;overflow: auto;}#sk-container-id-1 input.sk-toggleable__control:checked~label.sk-toggleable__label-arrow:before {content: \"▾\";}#sk-container-id-1 div.sk-estimator input.sk-toggleable__control:checked~label.sk-toggleable__label {background-color: #d4ebff;}#sk-container-id-1 div.sk-label input.sk-toggleable__control:checked~label.sk-toggleable__label {background-color: #d4ebff;}#sk-container-id-1 input.sk-hidden--visually {border: 0;clip: rect(1px 1px 1px 1px);clip: rect(1px, 1px, 1px, 1px);height: 1px;margin: -1px;overflow: hidden;padding: 0;position: absolute;width: 1px;}#sk-container-id-1 div.sk-estimator {font-family: monospace;background-color: #f0f8ff;border: 1px dotted black;border-radius: 0.25em;box-sizing: border-box;margin-bottom: 0.5em;}#sk-container-id-1 div.sk-estimator:hover {background-color: #d4ebff;}#sk-container-id-1 div.sk-parallel-item::after {content: \"\";width: 100%;border-bottom: 1px solid gray;flex-grow: 1;}#sk-container-id-1 div.sk-label:hover label.sk-toggleable__label {background-color: #d4ebff;}#sk-container-id-1 div.sk-serial::before {content: \"\";position: absolute;border-left: 1px solid gray;box-sizing: border-box;top: 0;bottom: 0;left: 50%;z-index: 0;}#sk-container-id-1 div.sk-serial {display: flex;flex-direction: column;align-items: center;background-color: white;padding-right: 0.2em;padding-left: 0.2em;position: relative;}#sk-container-id-1 div.sk-item {position: relative;z-index: 1;}#sk-container-id-1 div.sk-parallel {display: flex;align-items: stretch;justify-content: center;background-color: white;position: relative;}#sk-container-id-1 div.sk-item::before, #sk-container-id-1 div.sk-parallel-item::before {content: \"\";position: absolute;border-left: 1px solid gray;box-sizing: border-box;top: 0;bottom: 0;left: 50%;z-index: -1;}#sk-container-id-1 div.sk-parallel-item {display: flex;flex-direction: column;z-index: 1;position: relative;background-color: white;}#sk-container-id-1 div.sk-parallel-item:first-child::after {align-self: flex-end;width: 50%;}#sk-container-id-1 div.sk-parallel-item:last-child::after {align-self: flex-start;width: 50%;}#sk-container-id-1 div.sk-parallel-item:only-child::after {width: 0;}#sk-container-id-1 div.sk-dashed-wrapped {border: 1px dashed gray;margin: 0 0.4em 0.5em 0.4em;box-sizing: border-box;padding-bottom: 0.4em;background-color: white;}#sk-container-id-1 div.sk-label label {font-family: monospace;font-weight: bold;display: inline-block;line-height: 1.2em;}#sk-container-id-1 div.sk-label-container {text-align: center;}#sk-container-id-1 div.sk-container {/* jupyter's `normalize.less` sets `[hidden] { display: none; }` but bootstrap.min.css set `[hidden] { display: none !important; }` so we also need the `!important` here to be able to override the default hidden behavior on the sphinx rendered scikit-learn.org. See: https://github.com/scikit-learn/scikit-learn/issues/21755 */display: inline-block !important;position: relative;}#sk-container-id-1 div.sk-text-repr-fallback {display: none;}</style><div id=\"sk-container-id-1\" class=\"sk-top-container\"><div class=\"sk-text-repr-fallback\"><pre>KMeans(n_clusters=3, random_state=0)</pre><b>In a Jupyter environment, please rerun this cell to show the HTML representation or trust the notebook. <br />On GitHub, the HTML representation is unable to render, please try loading this page with nbviewer.org.</b></div><div class=\"sk-container\" hidden><div class=\"sk-item\"><div class=\"sk-estimator sk-toggleable\"><input class=\"sk-toggleable__control sk-hidden--visually\" id=\"sk-estimator-id-1\" type=\"checkbox\" checked><label for=\"sk-estimator-id-1\" class=\"sk-toggleable__label sk-toggleable__label-arrow\">KMeans</label><div class=\"sk-toggleable__content\"><pre>KMeans(n_clusters=3, random_state=0)</pre></div></div></div></div></div>"
      ],
      "text/plain": [
       "KMeans(n_clusters=3, random_state=0)"
      ]
     },
     "execution_count": 5,
     "metadata": {},
     "output_type": "execute_result"
    }
   ],
   "source": [
    "# Perform the K-means clustering with the optimal number of clusters\n",
    "kmeans = KMeans(n_clusters=3, random_state=0).fit(df_cluster)\n",
    "kmeans "
   ]
  },
  {
   "cell_type": "code",
   "execution_count": 6,
   "id": "969ee6f6",
   "metadata": {},
   "outputs": [],
   "source": [
    "# Get the cluster labels\n",
    "labels = kmeans.labels_"
   ]
  },
  {
   "cell_type": "code",
   "execution_count": 7,
   "id": "79574433",
   "metadata": {},
   "outputs": [],
   "source": [
    "# Get the coordinates of the cluster centers\n",
    "cluster_centers = kmeans.cluster_centers_"
   ]
  },
  {
   "cell_type": "code",
   "execution_count": 8,
   "id": "9262f143",
   "metadata": {},
   "outputs": [
    {
     "name": "stdout",
     "output_type": "stream",
     "text": [
      "Cluster labels: [0 0 0 0 0 0 0 0 0 0 0 0 0 0 0 0 0 0 0 0 0 0 0 0 0 0 0 0 0 0 0 0 0 0 0 0 2\n",
      " 0 0 0 0 0 0 0 0 0 0 0 0 0 0 0 0 0 0 2 2 2 0 0 0 0 0 0 0 0 0 0 0 0 0 0 0 0\n",
      " 0 0 0 0 0 0 0 0 0 0 0 2 0 0 0 0 0 1 1 0 0 0 0 0 0 0 0 0 0 0 0 0 0 0 0 0 0\n",
      " 0 0 0 0 0 0 0 0 0 0 0 0 0 0 0 0 1 0 2 0 0 0 0 0 0 0 0 0 0 1 0 0 0 0 0 0 0\n",
      " 0 0 0 0 0 0 0 0 0 0 0 0 0 0 0 2 0 0 0 0 0 0 0 0 0 0 0 0 0 0 2 0 0 0 0 0 0\n",
      " 0 0 0 0 0 0 0 0 0 0 0 0 0 0 0 0 0 0 0 0 0 2 0 0 0 0 0 0 0 0 0 0 0 0 0 0 0\n",
      " 0 0 0 2 0 0 0 0 0 0 0 1 0 0 0 0 0]\n",
      "Cluster centers: [[-0.23284584 -0.23290486 -0.23295444]\n",
      " [ 5.28939209  5.30409814  5.32396672]\n",
      " [ 2.57105075  2.56501989  2.55619599]]\n"
     ]
    }
   ],
   "source": [
    "# Print the results\n",
    "print(\"Cluster labels:\", labels)\n",
    "print(\"Cluster centers:\", cluster_centers)"
   ]
  },
  {
   "cell_type": "code",
   "execution_count": 9,
   "id": "eb2610f5",
   "metadata": {},
   "outputs": [
    {
     "name": "stdout",
     "output_type": "stream",
     "text": [
      "The average silhouette_score is : 0.9243752752487334\n"
     ]
    }
   ],
   "source": [
    "#Silhouette Score\n",
    "silhouette_avg = silhouette_score(df_cluster, labels)\n",
    "print(\"The average silhouette_score is :\", silhouette_avg)"
   ]
  },
  {
   "cell_type": "code",
   "execution_count": 10,
   "id": "9fcd0302",
   "metadata": {},
   "outputs": [
    {
     "data": {
      "text/html": [
       "<div>\n",
       "<style scoped>\n",
       "    .dataframe tbody tr th:only-of-type {\n",
       "        vertical-align: middle;\n",
       "    }\n",
       "\n",
       "    .dataframe tbody tr th {\n",
       "        vertical-align: top;\n",
       "    }\n",
       "\n",
       "    .dataframe thead th {\n",
       "        text-align: right;\n",
       "    }\n",
       "</style>\n",
       "<table border=\"1\" class=\"dataframe\">\n",
       "  <thead>\n",
       "    <tr style=\"text-align: right;\">\n",
       "      <th></th>\n",
       "      <th>0</th>\n",
       "      <th>1</th>\n",
       "      <th>2</th>\n",
       "      <th>label</th>\n",
       "    </tr>\n",
       "  </thead>\n",
       "  <tbody>\n",
       "    <tr>\n",
       "      <th>0</th>\n",
       "      <td>-0.173658</td>\n",
       "      <td>-0.176044</td>\n",
       "      <td>-0.173392</td>\n",
       "      <td>0</td>\n",
       "    </tr>\n",
       "    <tr>\n",
       "      <th>1</th>\n",
       "      <td>-0.313695</td>\n",
       "      <td>-0.312302</td>\n",
       "      <td>-0.311374</td>\n",
       "      <td>0</td>\n",
       "    </tr>\n",
       "    <tr>\n",
       "      <th>2</th>\n",
       "      <td>-0.265642</td>\n",
       "      <td>-0.264318</td>\n",
       "      <td>-0.261756</td>\n",
       "      <td>0</td>\n",
       "    </tr>\n",
       "    <tr>\n",
       "      <th>3</th>\n",
       "      <td>-0.309016</td>\n",
       "      <td>-0.308128</td>\n",
       "      <td>-0.306952</td>\n",
       "      <td>0</td>\n",
       "    </tr>\n",
       "    <tr>\n",
       "      <th>4</th>\n",
       "      <td>-0.313608</td>\n",
       "      <td>-0.312526</td>\n",
       "      <td>-0.311663</td>\n",
       "      <td>0</td>\n",
       "    </tr>\n",
       "    <tr>\n",
       "      <th>5</th>\n",
       "      <td>-0.314730</td>\n",
       "      <td>-0.313604</td>\n",
       "      <td>-0.312663</td>\n",
       "      <td>0</td>\n",
       "    </tr>\n",
       "    <tr>\n",
       "      <th>6</th>\n",
       "      <td>0.131776</td>\n",
       "      <td>0.114883</td>\n",
       "      <td>0.123211</td>\n",
       "      <td>0</td>\n",
       "    </tr>\n",
       "    <tr>\n",
       "      <th>7</th>\n",
       "      <td>-0.267492</td>\n",
       "      <td>-0.272391</td>\n",
       "      <td>-0.269125</td>\n",
       "      <td>0</td>\n",
       "    </tr>\n",
       "    <tr>\n",
       "      <th>8</th>\n",
       "      <td>-0.271751</td>\n",
       "      <td>-0.272442</td>\n",
       "      <td>-0.273923</td>\n",
       "      <td>0</td>\n",
       "    </tr>\n",
       "    <tr>\n",
       "      <th>9</th>\n",
       "      <td>-0.313553</td>\n",
       "      <td>-0.312386</td>\n",
       "      <td>-0.311353</td>\n",
       "      <td>0</td>\n",
       "    </tr>\n",
       "    <tr>\n",
       "      <th>10</th>\n",
       "      <td>-0.314723</td>\n",
       "      <td>-0.313599</td>\n",
       "      <td>-0.312659</td>\n",
       "      <td>0</td>\n",
       "    </tr>\n",
       "    <tr>\n",
       "      <th>11</th>\n",
       "      <td>-0.221324</td>\n",
       "      <td>-0.223403</td>\n",
       "      <td>-0.223434</td>\n",
       "      <td>0</td>\n",
       "    </tr>\n",
       "    <tr>\n",
       "      <th>12</th>\n",
       "      <td>-0.299016</td>\n",
       "      <td>-0.299005</td>\n",
       "      <td>-0.297808</td>\n",
       "      <td>0</td>\n",
       "    </tr>\n",
       "    <tr>\n",
       "      <th>13</th>\n",
       "      <td>-0.307163</td>\n",
       "      <td>-0.306082</td>\n",
       "      <td>-0.304571</td>\n",
       "      <td>0</td>\n",
       "    </tr>\n",
       "    <tr>\n",
       "      <th>14</th>\n",
       "      <td>-0.314716</td>\n",
       "      <td>-0.313557</td>\n",
       "      <td>-0.312613</td>\n",
       "      <td>0</td>\n",
       "    </tr>\n",
       "    <tr>\n",
       "      <th>15</th>\n",
       "      <td>-0.292562</td>\n",
       "      <td>-0.291865</td>\n",
       "      <td>-0.291280</td>\n",
       "      <td>0</td>\n",
       "    </tr>\n",
       "    <tr>\n",
       "      <th>16</th>\n",
       "      <td>-0.313192</td>\n",
       "      <td>-0.311987</td>\n",
       "      <td>-0.311092</td>\n",
       "      <td>0</td>\n",
       "    </tr>\n",
       "    <tr>\n",
       "      <th>17</th>\n",
       "      <td>-0.313817</td>\n",
       "      <td>-0.312629</td>\n",
       "      <td>-0.311623</td>\n",
       "      <td>0</td>\n",
       "    </tr>\n",
       "    <tr>\n",
       "      <th>18</th>\n",
       "      <td>-0.295777</td>\n",
       "      <td>-0.294247</td>\n",
       "      <td>-0.291805</td>\n",
       "      <td>0</td>\n",
       "    </tr>\n",
       "    <tr>\n",
       "      <th>19</th>\n",
       "      <td>-0.304299</td>\n",
       "      <td>-0.304175</td>\n",
       "      <td>-0.303732</td>\n",
       "      <td>0</td>\n",
       "    </tr>\n",
       "    <tr>\n",
       "      <th>20</th>\n",
       "      <td>-0.307509</td>\n",
       "      <td>-0.306530</td>\n",
       "      <td>-0.305091</td>\n",
       "      <td>0</td>\n",
       "    </tr>\n",
       "    <tr>\n",
       "      <th>21</th>\n",
       "      <td>-0.314322</td>\n",
       "      <td>-0.313065</td>\n",
       "      <td>-0.312123</td>\n",
       "      <td>0</td>\n",
       "    </tr>\n",
       "    <tr>\n",
       "      <th>22</th>\n",
       "      <td>-0.309393</td>\n",
       "      <td>-0.308445</td>\n",
       "      <td>-0.307909</td>\n",
       "      <td>0</td>\n",
       "    </tr>\n",
       "    <tr>\n",
       "      <th>23</th>\n",
       "      <td>-0.301384</td>\n",
       "      <td>-0.299964</td>\n",
       "      <td>-0.299449</td>\n",
       "      <td>0</td>\n",
       "    </tr>\n",
       "    <tr>\n",
       "      <th>24</th>\n",
       "      <td>-0.314690</td>\n",
       "      <td>-0.313571</td>\n",
       "      <td>-0.312631</td>\n",
       "      <td>0</td>\n",
       "    </tr>\n",
       "    <tr>\n",
       "      <th>25</th>\n",
       "      <td>-0.309376</td>\n",
       "      <td>-0.308298</td>\n",
       "      <td>-0.307615</td>\n",
       "      <td>0</td>\n",
       "    </tr>\n",
       "    <tr>\n",
       "      <th>26</th>\n",
       "      <td>-0.205143</td>\n",
       "      <td>-0.212455</td>\n",
       "      <td>-0.212393</td>\n",
       "      <td>0</td>\n",
       "    </tr>\n",
       "    <tr>\n",
       "      <th>27</th>\n",
       "      <td>-0.314560</td>\n",
       "      <td>-0.313429</td>\n",
       "      <td>-0.312490</td>\n",
       "      <td>0</td>\n",
       "    </tr>\n",
       "    <tr>\n",
       "      <th>28</th>\n",
       "      <td>-0.313092</td>\n",
       "      <td>-0.311959</td>\n",
       "      <td>-0.311163</td>\n",
       "      <td>0</td>\n",
       "    </tr>\n",
       "  </tbody>\n",
       "</table>\n",
       "</div>"
      ],
      "text/plain": [
       "           0         1         2  label\n",
       "0  -0.173658 -0.176044 -0.173392      0\n",
       "1  -0.313695 -0.312302 -0.311374      0\n",
       "2  -0.265642 -0.264318 -0.261756      0\n",
       "3  -0.309016 -0.308128 -0.306952      0\n",
       "4  -0.313608 -0.312526 -0.311663      0\n",
       "5  -0.314730 -0.313604 -0.312663      0\n",
       "6   0.131776  0.114883  0.123211      0\n",
       "7  -0.267492 -0.272391 -0.269125      0\n",
       "8  -0.271751 -0.272442 -0.273923      0\n",
       "9  -0.313553 -0.312386 -0.311353      0\n",
       "10 -0.314723 -0.313599 -0.312659      0\n",
       "11 -0.221324 -0.223403 -0.223434      0\n",
       "12 -0.299016 -0.299005 -0.297808      0\n",
       "13 -0.307163 -0.306082 -0.304571      0\n",
       "14 -0.314716 -0.313557 -0.312613      0\n",
       "15 -0.292562 -0.291865 -0.291280      0\n",
       "16 -0.313192 -0.311987 -0.311092      0\n",
       "17 -0.313817 -0.312629 -0.311623      0\n",
       "18 -0.295777 -0.294247 -0.291805      0\n",
       "19 -0.304299 -0.304175 -0.303732      0\n",
       "20 -0.307509 -0.306530 -0.305091      0\n",
       "21 -0.314322 -0.313065 -0.312123      0\n",
       "22 -0.309393 -0.308445 -0.307909      0\n",
       "23 -0.301384 -0.299964 -0.299449      0\n",
       "24 -0.314690 -0.313571 -0.312631      0\n",
       "25 -0.309376 -0.308298 -0.307615      0\n",
       "26 -0.205143 -0.212455 -0.212393      0\n",
       "27 -0.314560 -0.313429 -0.312490      0\n",
       "28 -0.313092 -0.311959 -0.311163      0"
      ]
     },
     "execution_count": 10,
     "metadata": {},
     "output_type": "execute_result"
    }
   ],
   "source": [
    "# Convert the numpy array back to a pandas dataframe\n",
    "df_cluster = pd.DataFrame(df_cluster)\n",
    "\n",
    "# Create a new dataframe with the labels for each country\n",
    "df_cluster['label'] = labels\n",
    "\n",
    "# Create a dataframe with only the data points in the first cluster\n",
    "df_label = df_cluster.loc[df_cluster['label'] == 0]\n",
    "df_label.head(29)"
   ]
  },
  {
   "cell_type": "code",
   "execution_count": 11,
   "id": "90d1f70a",
   "metadata": {},
   "outputs": [
    {
     "data": {
      "image/png": "[encoded data removed]",
      "text/plain": [
       "<Figure size 640x480 with 1 Axes>"
      ]
     },
     "metadata": {},
     "output_type": "display_data"
    }
   ],
   "source": [
    "import matplotlib.pyplot as plt\n",
    "# Plot each cluster\n",
    "for i in range(3):\n",
    "    cluster_data = df_cluster.loc[df_cluster['label'] == i]\n",
    "    plt.scatter(cluster_data[0], cluster_data[1], label=f'Cluster {i}')\n",
    "    plt.scatter(cluster_centers[i][0], cluster_centers[i][1], marker='x', s=150, c='black')\n",
    "\n",
    "plt.xlabel('Feature 1')\n",
    "plt.ylabel('Feature 2')\n",
    "plt.legend()\n",
    "plt.show()\n",
    "\n"
   ]
  },
  {
   "cell_type": "code",
   "execution_count": 12,
   "id": "aeabd421",
   "metadata": {},
   "outputs": [
    {
     "name": "stdout",
     "output_type": "stream",
     "text": [
      "           0                                                              \\\n",
      "       count      mean       std       min       25%       50%       75%   \n",
      "label                                                                      \n",
      "0      224.0 -0.232846  0.215589 -0.314841 -0.314006 -0.309303 -0.267385   \n",
      "1        5.0  5.289392  1.371808  4.600469  4.626140  4.671467  4.809785   \n",
      "2       10.0  2.571051  0.574634  1.424202  2.340770  2.515520  3.038571   \n",
      "\n",
      "                     1            ...                          2            \\\n",
      "            max  count      mean  ...       75%       max  count      mean   \n",
      "label                             ...                                        \n",
      "0      1.169676  224.0 -0.232905  ... -0.269666  1.130437  224.0 -0.232954   \n",
      "1      7.739098    5.0  5.304098  ...  4.837323  7.687049    5.0  5.323967   \n",
      "2      3.338222   10.0  2.565020  ...  3.034980  3.340760   10.0  2.556196   \n",
      "\n",
      "                                                                   \n",
      "            std       min       25%       50%       75%       max  \n",
      "label                                                              \n",
      "0      0.210105 -0.312777 -0.311836 -0.307364 -0.268299  1.087014  \n",
      "1      1.289139  4.662024  4.705983  4.751479  4.874677  7.625672  \n",
      "2      0.604415  1.409880  2.214348  2.525822  3.057287  3.366743  \n",
      "\n",
      "[3 rows x 24 columns]\n",
      "                  0             1             2       label\n",
      "count  2.390000e+02  2.390000e+02  2.390000e+02  239.000000\n",
      "mean   1.811661e-17  6.735663e-18  4.134303e-17    0.104603\n",
      "std    1.002099e+00  1.002099e+00  1.002099e+00    0.422005\n",
      "min   -3.148410e-01 -3.137161e-01 -3.127767e-01    0.000000\n",
      "25%   -3.137560e-01 -3.125775e-01 -3.116429e-01    0.000000\n",
      "50%   -3.076437e-01 -3.067442e-01 -3.059140e-01    0.000000\n",
      "75%   -2.390623e-01 -2.415072e-01 -2.413829e-01    0.000000\n",
      "max    7.739098e+00  7.687049e+00  7.625672e+00    2.000000\n"
     ]
    }
   ],
   "source": [
    "# Descriptive statistics for each cluster\n",
    "cluster_stats = df_cluster.groupby('label').describe()\n",
    "print(cluster_stats)\n",
    "\n",
    "# Comparison of the clusters with the entire dataset\n",
    "overall_stats = df_cluster.describe()\n",
    "print(overall_stats)"
   ]
  },
  {
   "cell_type": "code",
   "execution_count": 13,
   "id": "25752373",
   "metadata": {},
   "outputs": [],
   "source": [
    "# Extract the required data for the clustering\n",
    "df_growth = data.loc[data.index, ['1990', '2019']]\n",
    "df_growth = df_growth.dropna()"
   ]
  },
  {
   "cell_type": "code",
   "execution_count": 14,
   "id": "00395bb4",
   "metadata": {
    "scrolled": true
   },
   "outputs": [],
   "source": [
    "# Select the columns using the column names\n",
    "x = df_growth.loc[:, \"1990\"]\n",
    "y = df_growth.loc[:, \"2019\"]"
   ]
  },
  {
   "cell_type": "code",
   "execution_count": 15,
   "id": "4c3dbd3b",
   "metadata": {
    "scrolled": true
   },
   "outputs": [],
   "source": [
    "from scipy.optimize import curve_fit\n",
    "from matplotlib import pyplot"
   ]
  },
  {
   "cell_type": "code",
   "execution_count": 16,
   "id": "3484fa93",
   "metadata": {},
   "outputs": [],
   "source": [
    "# Define the exponential growth function\n",
    "def exp_growth(x, a, b):\n",
    "    return a * b ** x"
   ]
  },
  {
   "cell_type": "code",
   "execution_count": 17,
   "id": "6a72dc11",
   "metadata": {},
   "outputs": [],
   "source": [
    "# Fit the exponential growth model to the data\n",
    "popt, pcov = curve_fit(exp_growth, x, y)"
   ]
  },
  {
   "cell_type": "code",
   "execution_count": 18,
   "id": "e00554cd",
   "metadata": {},
   "outputs": [
    {
     "name": "stdout",
     "output_type": "stream",
     "text": [
      "y = 1560371.81825 * x + 1.00000\n"
     ]
    }
   ],
   "source": [
    "# summarize the parameter values\n",
    "a, b = popt\n",
    "print('y = %.5f * x + %.5f' % (a, b))"
   ]
  },
  {
   "cell_type": "code",
   "execution_count": 20,
   "id": "9239e480",
   "metadata": {},
   "outputs": [
    {
     "data": {
      "image/png": "[encoded data removed]",
      "text/plain": [
       "<Figure size 640x480 with 1 Axes>"
      ]
     },
     "metadata": {},
     "output_type": "display_data"
    }
   ],
   "source": [
    "# fit a straight line to the economic data\n",
    "from numpy import arange\n",
    "# define a sequence of inputs between the smallest and largest known inputs\n",
    "x_line = arange(min(x), max(x), 1)\n",
    "# calculate the output for the range\n",
    "y_line = exp_growth(x_line, a, b)\n",
    "# create a line plot for the mapping function\n",
    "pyplot.plot(x_line, y_line, '--', color='red')\n",
    "pyplot.show()"
   ]
  },
  {
   "cell_type": "code",
   "execution_count": 22,
   "id": "dffee0ed",
   "metadata": {},
   "outputs": [
    {
     "name": "stdout",
     "output_type": "stream",
     "text": [
      "a: (1213516.3920743186, 1907227.244418277)\n",
      "b: (1.0000001458095649, 1.0000001690354963)\n"
     ]
    }
   ],
   "source": [
    "import numpy as np\n",
    "from scipy.optimize import curve_fit\n",
    "from scipy.stats import norm\n",
    "# Get the best-fit parameters\n",
    "a, b = popt\n",
    "\n",
    "# Get the standard deviation of the best-fit parameters\n",
    "a_std, b_std = np.sqrt(np.diag(pcov))\n",
    "\n",
    "# Calculate the 95% confidence intervals\n",
    "a_confint = norm.interval(0.95, loc=a, scale=a_std)\n",
    "b_confint = norm.interval(0.95, loc=b, scale=b_std)\n",
    "\n",
    "# Print the confidence intervals\n",
    "print(\"a:\", a_confint)\n",
    "print(\"b:\", b_confint)"
   ]
  },
  {
   "cell_type": "code",
   "execution_count": 24,
   "id": "696e7956",
   "metadata": {},
   "outputs": [],
   "source": []
  },
  {
   "cell_type": "code",
   "execution_count": null,
   "id": "8466bc8a",
   "metadata": {},
   "outputs": [],
   "source": []
  }
 ],
 "metadata": {
  "kernelspec": {
   "display_name": "Python 3 (ipykernel)",
   "language": "python",
   "name": "python3"
  },
  "language_info": {
   "codemirror_mode": {
    "name": "ipython",
    "version": 3
   },
   "file_extension": ".py",
   "mimetype": "text/x-python",
   "name": "python",
   "nbconvert_exporter": "python",
   "pygments_lexer": "ipython3",
   "version": "3.9.13"
  }
 },
 "nbformat": 4,
 "nbformat_minor": 5
}
